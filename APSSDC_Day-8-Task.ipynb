{
 "cells": [
  {
   "cell_type": "markdown",
   "metadata": {},
   "source": [
    "# Task 1: Create a function for finding the leap years within the given range"
   ]
  },
  {
   "cell_type": "code",
   "execution_count": 3,
   "metadata": {},
   "outputs": [
    {
     "name": "stdout",
     "output_type": "stream",
     "text": [
      "Enter start year: 2000\n",
      "Enter end year: 2020\n",
      "[2000, 2004, 2008, 2012, 2016, 2020]\n"
     ]
    }
   ],
   "source": [
    "def leap_years(start, end):\n",
    "    if start <= end:\n",
    "        leap_years = [x for x in range(start, end+1) if x % 4 == 0 and x % 100 != 0 or x%400==0]\n",
    "        return leap_years\n",
    "    else:\n",
    "        return \"Check your input years again!\"\n",
    "print(leap_years(int(input('Enter start year: ')),int(input('Enter end year: '))))"
   ]
  },
  {
   "cell_type": "markdown",
   "metadata": {},
   "source": [
    "# Task 2: Create a function for getting the armstrong numbers within the given range"
   ]
  },
  {
   "cell_type": "code",
   "execution_count": 7,
   "metadata": {},
   "outputs": [
    {
     "name": "stdout",
     "output_type": "stream",
     "text": [
      "Enter starting number: 150\n",
      "Enter ending number: 500\n",
      "[153, 370, 371, 407]\n"
     ]
    }
   ],
   "source": [
    "def armstrongnums(start, end):\n",
    "    nums = []\n",
    "    for num in range(start, end+1):\n",
    "        sum = 0  \n",
    "        temp = num  \n",
    "        while temp > 0:  \n",
    "            digit = temp % 10  \n",
    "            sum += digit ** 3  \n",
    "            temp //= 10  \n",
    "        if num == sum:  \n",
    "            nums.append(num)\n",
    "    return nums\n",
    "print(armstrongnums(int(input(\"Enter starting number: \")),int(input(\"Enter ending number: \"))))"
   ]
  },
  {
   "cell_type": "markdown",
   "metadata": {},
   "source": [
    "# Task 3: Create a function for getting the prime numbers within the range"
   ]
  },
  {
   "cell_type": "code",
   "execution_count": 8,
   "metadata": {},
   "outputs": [
    {
     "name": "stdout",
     "output_type": "stream",
     "text": [
      "Enter the starting number: 50\n",
      "Enter the ending number: 100\n",
      "[53, 59, 61, 67, 71, 73, 79, 83, 89, 97]\n"
     ]
    }
   ],
   "source": [
    "import math\n",
    "def prime(m, n):\n",
    "    primes = [i for i in range(m,n+1) if (math.factorial(i-1) % i == (i - 1))]\n",
    "    return primes\n",
    "print(prime(int(input('Enter the starting number: ')), int(input('Enter the ending number: '))))"
   ]
  },
  {
   "cell_type": "markdown",
   "metadata": {},
   "source": [
    "# Task 4: Create a function for finding the count of elements in a string"
   ]
  },
  {
   "cell_type": "code",
   "execution_count": 9,
   "metadata": {},
   "outputs": [
    {
     "name": "stdout",
     "output_type": "stream",
     "text": [
      "Enter a string: lokesh\n",
      "{'l': 1, 'o': 1, 'k': 1, 'e': 1, 's': 1, 'h': 1}\n"
     ]
    }
   ],
   "source": [
    "def count_dict(string):\n",
    "    counts = dict()\n",
    "    letters = list(string)\n",
    "\n",
    "    for letter in letters:\n",
    "        if letter in counts:\n",
    "            counts[letter] += 1\n",
    "        else:\n",
    "            counts[letter] = 1\n",
    "    return counts\n",
    "\n",
    "print(count_dict(input(\"Enter a string: \")))"
   ]
  },
  {
   "cell_type": "code",
   "execution_count": null,
   "metadata": {},
   "outputs": [],
   "source": []
  }
 ],
 "metadata": {
  "kernelspec": {
   "display_name": "Python 3",
   "language": "python",
   "name": "python3"
  },
  "language_info": {
   "codemirror_mode": {
    "name": "ipython",
    "version": 3
   },
   "file_extension": ".py",
   "mimetype": "text/x-python",
   "name": "python",
   "nbconvert_exporter": "python",
   "pygments_lexer": "ipython3",
   "version": "3.8.5"
  }
 },
 "nbformat": 4,
 "nbformat_minor": 4
}
